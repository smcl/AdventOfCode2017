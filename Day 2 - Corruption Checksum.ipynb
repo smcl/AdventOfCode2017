{
 "cells": [
  {
   "cell_type": "markdown",
   "metadata": {},
   "source": [
    "http://adventofcode.com/2017/day/2\n",
    "\n",
    "## Part 1\n",
    "\n",
    "As you walk through the door, a glowing humanoid shape yells in your direction. \"You there! Your state appears to be idle. Come help us repair the corruption in this spreadsheet - if we take another millisecond, we'll have to display an hourglass cursor!\"\n",
    "\n",
    "The spreadsheet consists of rows of apparently-random numbers. To make sure the recovery process is on the right track, they need you to calculate the spreadsheet's checksum. For each row, determine the difference between the largest value and the smallest value; the checksum is the sum of all of these differences.\n",
    "\n",
    "For example, given the following spreadsheet:\n",
    "\n",
    "    5 1 9 5\n",
    "    7 5 3\n",
    "    2 4 6 8\n",
    "\n",
    "* The first row's largest and smallest values are 9 and 1, and their difference is 8.\n",
    "* The second row's largest and smallest values are 7 and 3, and their difference is 4.\n",
    "* The third row's difference is 6.\n",
    "\n",
    "In this example, the spreadsheet's checksum would be `8 + 4 + 6 = 18`."
   ]
  },
  {
   "cell_type": "code",
   "execution_count": 3,
   "metadata": {},
   "outputs": [],
   "source": [
    "puzzle_input = \"\"\"1136\t1129\t184\t452\t788\t1215\t355\t1109\t224\t1358\t1278\t176\t1302\t186\t128\t1148\n",
    "242\t53\t252\t62\t40\t55\t265\t283\t38\t157\t259\t226\t322\t48\t324\t299\n",
    "2330\t448\t268\t2703\t1695\t2010\t3930\t3923\t179\t3607\t217\t3632\t1252\t231\t286\t3689\n",
    "89\t92\t903\t156\t924\t364\t80\t992\t599\t998\t751\t827\t110\t969\t979\t734\n",
    "100\t304\t797\t81\t249\t1050\t90\t127\t675\t1038\t154\t715\t79\t1116\t723\t990\n",
    "1377\t353\t3635\t99\t118\t1030\t3186\t3385\t1921\t2821\t492\t3082\t2295\t139\t125\t2819\n",
    "3102\t213\t2462\t116\t701\t2985\t265\t165\t248\t680\t3147\t1362\t1026\t1447\t106\t2769\n",
    "5294\t295\t6266\t3966\t2549\t701\t2581\t6418\t5617\t292\t5835\t209\t2109\t3211\t241\t5753\n",
    "158\t955\t995\t51\t89\t875\t38\t793\t969\t63\t440\t202\t245\t58\t965\t74\n",
    "62\t47\t1268\t553\t45\t60\t650\t1247\t1140\t776\t1286\t200\t604\t399\t42\t572\n",
    "267\t395\t171\t261\t79\t66\t428\t371\t257\t284\t65\t25\t374\t70\t389\t51\n",
    "3162\t3236\t1598\t4680\t2258\t563\t1389\t3313\t501\t230\t195\t4107\t224\t225\t4242\t4581\n",
    "807\t918\t51\t1055\t732\t518\t826\t806\t58\t394\t632\t36\t53\t119\t667\t60\n",
    "839\t253\t1680\t108\t349\t1603\t1724\t172\t140\t167\t181\t38\t1758\t1577\t748\t1011\n",
    "1165\t1251\t702\t282\t1178\t834\t211\t1298\t382\t1339\t67\t914\t1273\t76\t81\t71\n",
    "6151\t5857\t4865\t437\t6210\t237\t37\t410\t544\t214\t233\t6532\t2114\t207\t5643\t6852\"\"\"\n"
   ]
  },
  {
   "cell_type": "code",
   "execution_count": 7,
   "metadata": {
    "scrolled": true
   },
   "outputs": [
    {
     "name": "stdout",
     "output_type": "stream",
     "text": [
      "37923\n"
     ]
    }
   ],
   "source": [
    "lines = puzzle_input.split(\"\\n\")\n",
    "\n",
    "csum = 0\n",
    "for line in lines:\n",
    "    cols = [ int(col) for col in line.split(\"\\t\") ]\n",
    "    \n",
    "    min_col = min(cols)\n",
    "    max_col = max(cols)\n",
    "    csum += (max_col - min_col)\n",
    "print(csum)"
   ]
  },
  {
   "cell_type": "markdown",
   "metadata": {},
   "source": [
    "## Part 2\n",
    "\n",
    "\"Great work; looks like we're on the right track after all. Here's a star for your effort.\" However, the program seems a little worried. Can programs be worried?\n",
    "\n",
    "\"Based on what we're seeing, it looks like all the User wanted is some information about the evenly divisible values in the spreadsheet. Unfortunately, none of us are equipped for that kind of calculation - most of us specialize in bitwise operations.\"\n",
    "\n",
    "It sounds like the goal is to find the only two numbers in each row where one evenly divides the other - that is, where the result of the division operation is a whole number. They would like you to find those numbers on each line, divide them, and add up each line's result.\n",
    "\n",
    "For example, given the following spreadsheet:\n",
    "\n",
    "    5 9 2 8\n",
    "    9 4 7 3\n",
    "    3 8 6 5\n",
    "\n",
    "* In the first row, the only two numbers that evenly divide are 8 and 2; the result of this division is 4.\n",
    "* In the second row, the two numbers are 9 and 3; the result is 3.\n",
    "* In the third row, the result is 2.\n",
    "\n",
    "In this example, the sum of the results would be `4 + 3 + 2 = 9`.\n",
    "\n",
    "What is the sum of each row's result in your puzzle input?"
   ]
  },
  {
   "cell_type": "code",
   "execution_count": 16,
   "metadata": {},
   "outputs": [
    {
     "name": "stdout",
     "output_type": "stream",
     "text": [
      "263\n"
     ]
    }
   ],
   "source": [
    "def divisible(x, y):\n",
    "    return x % y == 0\n",
    "\n",
    "def values_excluding_index(lst, idx):\n",
    "    values = lst[:idx]\n",
    "    \n",
    "    if idx < len(lst):\n",
    "        values += lst[idx+1:]\n",
    "        \n",
    "    return values\n",
    "\n",
    "csum = 0\n",
    "\n",
    "for line in lines:\n",
    "    cols = [ int(col) for col in line.split(\"\\t\") ]\n",
    "    \n",
    "    for i in range(len(cols)):\n",
    "        col = cols[i]\n",
    "        csum += sum([ int(col / n) for n in values_excluding_index(cols, i) if divisible(col, n) ])\n",
    "\n",
    "print(csum)"
   ]
  }
 ],
 "metadata": {
  "kernelspec": {
   "display_name": "Python 3",
   "language": "python",
   "name": "python3"
  },
  "language_info": {
   "codemirror_mode": {
    "name": "ipython",
    "version": 3
   },
   "file_extension": ".py",
   "mimetype": "text/x-python",
   "name": "python",
   "nbconvert_exporter": "python",
   "pygments_lexer": "ipython3",
   "version": "3.5.3"
  }
 },
 "nbformat": 4,
 "nbformat_minor": 2
}
